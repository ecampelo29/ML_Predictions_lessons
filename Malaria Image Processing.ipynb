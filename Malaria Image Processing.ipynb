{
 "cells": [
  {
   "cell_type": "markdown",
   "metadata": {},
   "source": [
    "Codes regarding the class 71 - Malarial cell classification using CNN do canal DigitalSreeni (https://www.youtube.com/watch?v=R9PPxpzj5tI&t=4s)"
   ]
  },
  {
   "cell_type": "markdown",
   "metadata": {},
   "source": [
    "The idea is to train a convolutional network capable of distinguish cells contaminated with malaria from healthy ones"
   ]
  },
  {
   "cell_type": "code",
   "execution_count": 1,
   "metadata": {},
   "outputs": [],
   "source": [
    "import numpy as np\n",
    "import os\n",
    "import cv2\n",
    "from PIL import Image\n",
    "import keras\n",
    "import matplotlib.pyplot as plt\n",
    "%matplotlib inline"
   ]
  },
  {
   "cell_type": "code",
   "execution_count": 2,
   "metadata": {},
   "outputs": [],
   "source": [
    "np.random.seed(1000)\n",
    "os.environ['KERAS_BACKEND'] = 'tensorflow'"
   ]
  },
  {
   "cell_type": "code",
   "execution_count": 3,
   "metadata": {},
   "outputs": [],
   "source": [
    "cell_directory = '/home/ecampelo/Documentos/Machine learning/Data_files/cell_images'\n",
    "size = 64"
   ]
  },
  {
   "cell_type": "code",
   "execution_count": 4,
   "metadata": {},
   "outputs": [],
   "source": [
    "parasitized_images = os.listdir(os.path.join(cell_directory, 'Parasitized')) # 13.780 images\n",
    "uninfected_images = os.listdir(os.path.join(cell_directory, 'Uninfected')) # 13.780 images"
   ]
  },
  {
   "cell_type": "markdown",
   "metadata": {},
   "source": [
    "## Reading the Images"
   ]
  },
  {
   "cell_type": "code",
   "execution_count": 76,
   "metadata": {},
   "outputs": [],
   "source": [
    "# readind the first 100 images just for study\n",
    "# I changed the order of data reading so I can have [0,1] on label therefore np.argmax would show index 0 \n",
    "# for health cells and 1 for parasitized.\n",
    "dataset = []\n",
    "label = []\n",
    "limit = 500\n",
    "for i, image_name in enumerate(uninfected_images[:limit]):\n",
    "    if image_name.split('.')[1] == 'png':\n",
    "        # reads as array\n",
    "        image = cv2.imread(os.path.join(cell_directory, 'Uninfected', image_name))\n",
    "        # convert to image\n",
    "        image = Image.fromarray(image, 'RGB')\n",
    "        # resize it \n",
    "        image = image.resize((size, size))\n",
    "        # load it to the dataset as an array\n",
    "        dataset.append(np.array(image))\n",
    "        # creates the label for uninfected cells\n",
    "        label.append(0)"
   ]
  },
  {
   "cell_type": "code",
   "execution_count": 77,
   "metadata": {},
   "outputs": [],
   "source": [
    "\n",
    "for i, image_name in enumerate(parasitized_images[:limit]):\n",
    "    if image_name.split('.')[1] == 'png':\n",
    "        # reads as array\n",
    "        image = cv2.imread(os.path.join(cell_directory, 'Parasitized', image_name))\n",
    "        # convert to image\n",
    "        image = Image.fromarray(image, 'RGB')\n",
    "        # resize it \n",
    "        image = image.resize((size, size))\n",
    "        # load it to the dataset as an array\n",
    "        dataset.append(np.array(image))\n",
    "        # creates the label for parasitized cells\n",
    "        label.append(1)"
   ]
  },
  {
   "cell_type": "markdown",
   "metadata": {},
   "source": [
    "## Defining the network"
   ]
  },
  {
   "cell_type": "code",
   "execution_count": 71,
   "metadata": {},
   "outputs": [],
   "source": [
    "layer = keras.layers\n",
    "\n",
    "input_shape = (size, size, 3)\n",
    "\n",
    "# input \n",
    "input_layer = layer.Input(shape= input_shape)\n",
    "\n",
    "# convolutions\n",
    "convolution1 = layer.Conv2D(32, kernel_size=(3,3), activation='relu', padding='same')(input_layer)\n",
    "pool1 = layer.MaxPooling2D(pool_size=(2,2))(convolution1) # extracts the max number on a basis 2x2 matrix\n",
    "normalization1 = layer.BatchNormalization(axis= -1)(pool1) \n",
    "drop1 = layer.Dropout(rate=0.2)(normalization1) # drops 20% of nodes result\n",
    "\n",
    "convolution2 = layer.Conv2D(32, kernel_size=(3,3), activation='relu', padding='same')(drop1)\n",
    "pool2 = layer.MaxPooling2D(pool_size=(2,2))(convolution2) # extracts the max number on a basis 2x2 matrix\n",
    "normalization2 = layer.BatchNormalization(axis= -1)(pool2) \n",
    "drop2 = layer.Dropout(rate=0.2)(normalization2) # drops 20% of nodes result\n",
    "\n",
    "flat = layer.Flatten()(drop2)\n",
    "\n",
    "# Dense part\n",
    "hidden1 = layer.Dense(512, activation= 'relu')(flat)\n",
    "normalization3 = layer.BatchNormalization(axis= -1)(hidden1) \n",
    "drop3 = layer.Dropout(rate=0.2)(normalization3) # drops 20% of nodes result\n",
    "\n",
    "hidden2 = layer.Dense(512, activation= 'relu')(drop3)\n",
    "normalization4 = layer.BatchNormalization(axis= -1)(hidden2) \n",
    "drop4 = layer.Dropout(rate=0.2)(normalization4) # drops 20% of nodes result\n",
    "\n",
    "# output\n",
    "output_layer = layer.Dense(2, activation= 'sigmoid')(drop4)\n",
    "\n",
    "# the model\n",
    "model = keras.Model(inputs = input_layer, outputs = output_layer)\n",
    "model.compile(optimizer='adam', loss='categorical_crossentropy', metrics=['accuracy'])\n"
   ]
  },
  {
   "cell_type": "code",
   "execution_count": 72,
   "metadata": {},
   "outputs": [
    {
     "name": "stdout",
     "output_type": "stream",
     "text": [
      "Model: \"functional_1\"\n",
      "_________________________________________________________________\n",
      "Layer (type)                 Output Shape              Param #   \n",
      "=================================================================\n",
      "input_1 (InputLayer)         [(None, 64, 64, 3)]       0         \n",
      "_________________________________________________________________\n",
      "conv2d (Conv2D)              (None, 64, 64, 32)        896       \n",
      "_________________________________________________________________\n",
      "max_pooling2d (MaxPooling2D) (None, 32, 32, 32)        0         \n",
      "_________________________________________________________________\n",
      "batch_normalization (BatchNo (None, 32, 32, 32)        128       \n",
      "_________________________________________________________________\n",
      "dropout (Dropout)            (None, 32, 32, 32)        0         \n",
      "_________________________________________________________________\n",
      "conv2d_1 (Conv2D)            (None, 32, 32, 32)        9248      \n",
      "_________________________________________________________________\n",
      "max_pooling2d_1 (MaxPooling2 (None, 16, 16, 32)        0         \n",
      "_________________________________________________________________\n",
      "batch_normalization_1 (Batch (None, 16, 16, 32)        128       \n",
      "_________________________________________________________________\n",
      "dropout_1 (Dropout)          (None, 16, 16, 32)        0         \n",
      "_________________________________________________________________\n",
      "flatten (Flatten)            (None, 8192)              0         \n",
      "_________________________________________________________________\n",
      "dense (Dense)                (None, 512)               4194816   \n",
      "_________________________________________________________________\n",
      "batch_normalization_2 (Batch (None, 512)               2048      \n",
      "_________________________________________________________________\n",
      "dropout_2 (Dropout)          (None, 512)               0         \n",
      "_________________________________________________________________\n",
      "dense_1 (Dense)              (None, 512)               262656    \n",
      "_________________________________________________________________\n",
      "batch_normalization_3 (Batch (None, 512)               2048      \n",
      "_________________________________________________________________\n",
      "dropout_3 (Dropout)          (None, 512)               0         \n",
      "_________________________________________________________________\n",
      "dense_2 (Dense)              (None, 2)                 1026      \n",
      "=================================================================\n",
      "Total params: 4,472,994\n",
      "Trainable params: 4,470,818\n",
      "Non-trainable params: 2,176\n",
      "_________________________________________________________________\n",
      "None\n"
     ]
    }
   ],
   "source": [
    "print(model.summary())"
   ]
  },
  {
   "cell_type": "markdown",
   "metadata": {},
   "source": [
    "# Dividing the data into train and test sets"
   ]
  },
  {
   "cell_type": "code",
   "execution_count": 73,
   "metadata": {},
   "outputs": [],
   "source": [
    "from sklearn.model_selection import train_test_split\n",
    "from keras.utils import to_categorical"
   ]
  },
  {
   "cell_type": "code",
   "execution_count": 78,
   "metadata": {},
   "outputs": [],
   "source": [
    "X = np.array(dataset)\n",
    "y = to_categorical(np.array(label)) # transform into a binary class matrix"
   ]
  },
  {
   "cell_type": "code",
   "execution_count": 79,
   "metadata": {},
   "outputs": [],
   "source": [
    "X_train, X_test, y_train, y_test = train_test_split(X, y, test_size=0.2, random_state=0 )"
   ]
  },
  {
   "cell_type": "code",
   "execution_count": 80,
   "metadata": {},
   "outputs": [
    {
     "name": "stdout",
     "output_type": "stream",
     "text": [
      "Epoch 1/25\n",
      "23/23 [==============================] - 3s 113ms/step - loss: 0.8377 - accuracy: 0.5681 - val_loss: 2.8581 - val_accuracy: 0.6250\n",
      "Epoch 2/25\n",
      "23/23 [==============================] - 2s 101ms/step - loss: 0.6072 - accuracy: 0.7194 - val_loss: 1.2145 - val_accuracy: 0.6250\n",
      "Epoch 3/25\n",
      "23/23 [==============================] - 2s 101ms/step - loss: 0.5407 - accuracy: 0.7486 - val_loss: 3.0484 - val_accuracy: 0.4750\n",
      "Epoch 4/25\n",
      "23/23 [==============================] - 2s 101ms/step - loss: 0.4331 - accuracy: 0.7931 - val_loss: 1.6090 - val_accuracy: 0.5750\n",
      "Epoch 5/25\n",
      "23/23 [==============================] - 2s 108ms/step - loss: 0.3890 - accuracy: 0.8181 - val_loss: 0.9570 - val_accuracy: 0.6500\n",
      "Epoch 6/25\n",
      "23/23 [==============================] - 3s 123ms/step - loss: 0.3305 - accuracy: 0.8500 - val_loss: 0.6355 - val_accuracy: 0.7000\n",
      "Epoch 7/25\n",
      "23/23 [==============================] - 3s 136ms/step - loss: 0.2378 - accuracy: 0.8958 - val_loss: 0.6763 - val_accuracy: 0.7125\n",
      "Epoch 8/25\n",
      "23/23 [==============================] - 3s 128ms/step - loss: 0.2340 - accuracy: 0.9069 - val_loss: 1.0563 - val_accuracy: 0.6625\n",
      "Epoch 9/25\n",
      "23/23 [==============================] - 3s 126ms/step - loss: 0.1389 - accuracy: 0.9444 - val_loss: 2.2188 - val_accuracy: 0.5500\n",
      "Epoch 10/25\n",
      "23/23 [==============================] - 3s 127ms/step - loss: 0.1466 - accuracy: 0.9431 - val_loss: 3.2787 - val_accuracy: 0.5000\n",
      "Epoch 11/25\n",
      "23/23 [==============================] - 3s 125ms/step - loss: 0.1513 - accuracy: 0.9444 - val_loss: 0.7911 - val_accuracy: 0.7125\n",
      "Epoch 12/25\n",
      "23/23 [==============================] - 3s 137ms/step - loss: 0.1686 - accuracy: 0.9403 - val_loss: 0.7065 - val_accuracy: 0.7500\n",
      "Epoch 13/25\n",
      "23/23 [==============================] - 3s 128ms/step - loss: 0.1420 - accuracy: 0.9458 - val_loss: 0.9342 - val_accuracy: 0.7125\n",
      "Epoch 14/25\n",
      "23/23 [==============================] - 3s 130ms/step - loss: 0.1016 - accuracy: 0.9597 - val_loss: 1.4846 - val_accuracy: 0.7250\n",
      "Epoch 15/25\n",
      "23/23 [==============================] - 3s 138ms/step - loss: 0.0845 - accuracy: 0.9597 - val_loss: 1.2144 - val_accuracy: 0.7625\n",
      "Epoch 16/25\n",
      "23/23 [==============================] - 3s 133ms/step - loss: 0.0723 - accuracy: 0.9722 - val_loss: 1.6848 - val_accuracy: 0.7500\n",
      "Epoch 17/25\n",
      "23/23 [==============================] - 3s 151ms/step - loss: 0.0592 - accuracy: 0.9750 - val_loss: 0.8492 - val_accuracy: 0.7875\n",
      "Epoch 18/25\n",
      "23/23 [==============================] - 3s 140ms/step - loss: 0.0324 - accuracy: 0.9889 - val_loss: 1.3222 - val_accuracy: 0.7750\n",
      "Epoch 19/25\n",
      "23/23 [==============================] - 4s 154ms/step - loss: 0.0520 - accuracy: 0.9792 - val_loss: 1.1996 - val_accuracy: 0.7625\n",
      "Epoch 20/25\n",
      "23/23 [==============================] - 3s 130ms/step - loss: 0.0407 - accuracy: 0.9875 - val_loss: 0.7863 - val_accuracy: 0.7750\n",
      "Epoch 21/25\n",
      "23/23 [==============================] - 3s 132ms/step - loss: 0.0410 - accuracy: 0.9861 - val_loss: 1.8050 - val_accuracy: 0.6625\n",
      "Epoch 22/25\n",
      "23/23 [==============================] - 4s 153ms/step - loss: 0.0314 - accuracy: 0.9861 - val_loss: 2.1344 - val_accuracy: 0.6875\n",
      "Epoch 23/25\n",
      "23/23 [==============================] - 3s 131ms/step - loss: 0.0419 - accuracy: 0.9875 - val_loss: 2.0988 - val_accuracy: 0.6625\n",
      "Epoch 24/25\n",
      "23/23 [==============================] - 3s 140ms/step - loss: 0.0186 - accuracy: 0.9917 - val_loss: 1.8072 - val_accuracy: 0.7625\n",
      "Epoch 25/25\n",
      "23/23 [==============================] - 3s 150ms/step - loss: 0.0187 - accuracy: 0.9931 - val_loss: 1.0071 - val_accuracy: 0.7875\n"
     ]
    }
   ],
   "source": [
    "history = model.fit(X_train, y_train, batch_size=32, verbose=1, epochs=25, validation_split=0.1, shuffle=False)\n"
   ]
  },
  {
   "cell_type": "code",
   "execution_count": 81,
   "metadata": {},
   "outputs": [
    {
     "name": "stdout",
     "output_type": "stream",
     "text": [
      "7/7 [==============================] - 0s 20ms/step - loss: 1.5005 - accuracy: 0.7450\n",
      "Test_Accuracy: 74.50%\n"
     ]
    },
    {
     "data": {
      "image/png": "[encoded data removed]",
      "text/plain": [
       "<Figure size 864x432 with 2 Axes>"
      ]
     },
     "metadata": {
      "needs_background": "light"
     },
     "output_type": "display_data"
    }
   ],
   "source": [
    "# Result Analysis\n",
    "print('Test_Accuracy: {:.2f}%'.format(model.evaluate(np.array(X_test), np.array(y_test))[1]*100))\n",
    "\n",
    "f, (ax1, ax2) = plt.subplots(1, 2, figsize=(12,6))\n",
    "t = f.suptitle('CNN Performance', fontsize=12)\n",
    "f.subplots_adjust(top=0.85, wspace=0.3)\n",
    "\n",
    "max_epoch = len(history.history['accuracy'])+1\n",
    "epoch_list = list(range(1, max_epoch))\n",
    "ax1.plot(epoch_list, history.history['accuracy'], label='Train Accuracy')\n",
    "ax1.plot(epoch_list, history.history['val_accuracy'], label='Validation Accuracy')\n",
    "ax1.set_xticks(np.arange(1, max_epoch, 5))\n",
    "ax1.set_ylabel('Accuray Value')\n",
    "ax1.set_xlabel('Epoch')\n",
    "ax1.set_title('Accuracy')\n",
    "l1 = ax1.legend(loc='best')\n",
    "\n",
    "ax2.plot(epoch_list, history.history['loss'], label='Train Loss')\n",
    "ax2.plot(epoch_list, history.history['val_loss'], label='Validation Loss')\n",
    "ax2.set_xticks(np.arange(1, max_epoch, 5))\n",
    "ax2.set_ylabel('Loss Value')\n",
    "ax2.set_xlabel('Epoch')\n",
    "ax2.set_title('Loss')\n",
    "l2 = ax2.legend(loc='best')"
   ]
  },
  {
   "cell_type": "code",
   "execution_count": 82,
   "metadata": {},
   "outputs": [],
   "source": [
    "# saving the model\n",
    "history.model.save('/home/ecampelo/Documentos/Machine learning/CNN_malaria_DL.h5')\n",
    "# e depois\n",
    "# model = keras.models.load_model('path/to/location')\n"
   ]
  },
  {
   "cell_type": "code",
   "execution_count": 142,
   "metadata": {},
   "outputs": [
    {
     "data": {
      "text/plain": [
       "array([[9.6782358e-05, 9.0116215e-01],\n",
       "       [9.9476326e-01, 7.2491169e-04],\n",
       "       [1.0000000e+00, 4.0226614e-06],\n",
       "       [1.8383861e-03, 7.3636711e-01],\n",
       "       [2.0059943e-04, 8.2935059e-01],\n",
       "       [5.1254803e-05, 9.2448217e-01],\n",
       "       [9.9999601e-01, 1.1788559e-05],\n",
       "       [9.9999523e-01, 1.8205690e-05],\n",
       "       [9.9443865e-01, 3.7431717e-04],\n",
       "       [9.6214318e-01, 4.3357611e-03],\n",
       "       [9.7003961e-01, 3.3989549e-04],\n",
       "       [1.5004777e-06, 9.9999726e-01],\n",
       "       [1.0940224e-02, 4.6872357e-01],\n",
       "       [9.9711347e-01, 3.5265386e-03],\n",
       "       [2.3110086e-05, 9.9551678e-01]], dtype=float32)"
      ]
     },
     "execution_count": 142,
     "metadata": {},
     "output_type": "execute_result"
    }
   ],
   "source": [
    "# predicting on a group of images\n",
    "batch_of_images = X_test[0:15]\n",
    "y_predict = history.model.predict(batch_of_images)\n",
    "y_predict"
   ]
  },
  {
   "cell_type": "code",
   "execution_count": 144,
   "metadata": {},
   "outputs": [
    {
     "data": {
      "text/plain": [
       "[9.678245260147378e-05, 0.9011622071266174]"
      ]
     },
     "execution_count": 144,
     "metadata": {},
     "output_type": "execute_result"
    }
   ],
   "source": [
    "# predicting on one image\n",
    "one_image = X_test[:1]\n",
    "result = history.model(one_image,  training=False)\n",
    "result_array = result.numpy()[0]\n",
    "result_array.tolist()"
   ]
  },
  {
   "cell_type": "markdown",
   "metadata": {},
   "source": [
    "## Simple Image Analyser"
   ]
  },
  {
   "cell_type": "markdown",
   "metadata": {},
   "source": [
    "This analyzer is not in the video. It is my implementation to be used under Jupyter notebook"
   ]
  },
  {
   "cell_type": "code",
   "execution_count": 156,
   "metadata": {},
   "outputs": [],
   "source": [
    "from ipywidgets import FileUpload, widgets\n",
    "from IPython.display import display\n",
    "# !pip3 install ipyfilechooser\n",
    "from ipyfilechooser import FileChooser"
   ]
  },
  {
   "cell_type": "code",
   "execution_count": 159,
   "metadata": {},
   "outputs": [],
   "source": [
    "\n",
    "class ImageTransformer():\n",
    "    def __init__(self, image):\n",
    "        self.image = image\n",
    "        self.img_transformed = None\n",
    "        self.transform_image()\n",
    "\n",
    "    def transform_image(self):\n",
    "        temp_ds = []\n",
    "        # reads as array\n",
    "        image = cv2.imread(self.image)\n",
    "        # convert to image\n",
    "        image = Image.fromarray(image, 'RGB')\n",
    "        # resize it \n",
    "        image = image.resize((size, size))\n",
    "        # load it to the dataset as an array\n",
    "        temp_ds.append(np.array(image))\n",
    "        \n",
    "        self.img_transformed = np.array(temp_ds)\n",
    "        \n",
    "        \n",
    "class ImgAnalyser():\n",
    "    def __init__ (self, img_transformed):\n",
    "        model_address = '/home/ecampelo/Documentos/Machine learning/CNN_malaria_DL.h5'\n",
    "        self.model = keras.models.load_model(model_address)\n",
    "        self.img_transformed = img_transformed\n",
    "        \n",
    "    def prediction(self):\n",
    "        result = self.model(self.img_transformed,  training=False) # tensor object\n",
    "        result_array = result.numpy()[0] # extract the array from the tensor object        \n",
    "        prediction = np.argmax(result_array)\n",
    "        # print(result_array)\n",
    "        percent = result_array[prediction]\n",
    "        if percent < 0.5:\n",
    "            return 'The result is undefined'\n",
    "        else:\n",
    "            if prediction:\n",
    "                return 'This cell has {:.2%} of chance of being parasitized'.format(percent)\n",
    "            return 'This cell has {:.2%} of chance of being health'.format(percent)\n",
    "\n",
    "    \n",
    "class ButtonAnalyzer():\n",
    "    \n",
    "    def __init__(self, selected_file: FileChooser):\n",
    "        self.selected_file = selected_file    \n",
    "        self.button = widgets.Button(description=\"Prediction\")\n",
    "        self.button.on_click(self.prediction)\n",
    "        \n",
    "    def prediction(self, arg):\n",
    "        if self.valid_image():\n",
    "            #print(self.img_transformed)\n",
    "            #print(self.selected_file.selected)\n",
    "            analyser = ImgAnalyser(self.img_transformed)\n",
    "            print(analyser.prediction())\n",
    "        \n",
    "    def valid_image(self):\n",
    "        try:\n",
    "            if self.file_name.split('.')[1] == 'png': \n",
    "                return True\n",
    "            raise LoaderError('Choose a valid png image')\n",
    "        except AttributeError:\n",
    "            print('Choose a valid png image')\n",
    "        \n",
    "    @property\n",
    "    def img_transformed(self):\n",
    "        return ImageTransformer(self.selected_file.selected).img_transformed\n",
    "    \n",
    "    @property\n",
    "    def file_name(self):\n",
    "        return self.selected_file.selected_filename\n",
    "    \n",
    "class LoaderError(Exception):\n",
    "    pass"
   ]
  },
  {
   "cell_type": "code",
   "execution_count": 160,
   "metadata": {},
   "outputs": [
    {
     "data": {
      "application/vnd.jupyter.widget-view+json": {
       "model_id": "24157ff9751b468384c7f9dc9aba2d91",
       "version_major": 2,
       "version_minor": 0
      },
      "text/plain": [
       "HBox(children=(VBox(children=(Label(value='Load a Cell Image'), FileChooser(path='/home/ecampelo/Documentos/Ma…"
      ]
     },
     "metadata": {},
     "output_type": "display_data"
    },
    {
     "name": "stdout",
     "output_type": "stream",
     "text": [
      "The result is undefined\n",
      "This cell has 71.02% of chance of being health\n",
      "This cell has 95.38% of chance of being health\n"
     ]
    }
   ],
   "source": [
    "fc = FileChooser('/home/ecampelo/Documentos/Machine learning/Data_files/cell_images/Novas_Imagens')\n",
    "fc.use_dir_icons = True\n",
    "fc.filter_pattern = '*.png'\n",
    "file_label = widgets.Label('Load a Cell Image')\n",
    "process_label = widgets.Label('Hit for Prediction')\n",
    "\n",
    "itens_left = widgets.VBox([file_label, fc])\n",
    "itens_right = widgets.VBox([process_label, ButtonAnalyzer(fc).button])\n",
    "\n",
    "main_box = widgets.HBox([itens_left, itens_right])\n",
    "display(main_box)"
   ]
  },
  {
   "cell_type": "code",
   "execution_count": null,
   "metadata": {},
   "outputs": [],
   "source": []
  }
 ],
 "metadata": {
  "kernelspec": {
   "display_name": "Python 3",
   "language": "python",
   "name": "python3"
  },
  "language_info": {
   "codemirror_mode": {
    "name": "ipython",
    "version": 3
   },
   "file_extension": ".py",
   "mimetype": "text/x-python",
   "name": "python",
   "nbconvert_exporter": "python",
   "pygments_lexer": "ipython3",
   "version": "3.6.9"
  }
 },
 "nbformat": 4,
 "nbformat_minor": 4
}
