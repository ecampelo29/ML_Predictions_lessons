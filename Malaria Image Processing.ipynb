{
 "cells": [
  {
   "cell_type": "markdown",
   "metadata": {},
   "source": [
    "Codes regarding the class 71 - Malarial cell classification using CNN do canal DigitalSreeni (https://www.youtube.com/watch?v=R9PPxpzj5tI&t=4s)"
   ]
  },
  {
   "cell_type": "markdown",
   "metadata": {},
   "source": [
    "The idea is to train a convolutional network capable of distinguish cells contaminated with malaria from healthy ones"
   ]
  },
  {
   "cell_type": "code",
   "execution_count": 1,
   "metadata": {},
   "outputs": [],
   "source": [
    "import numpy as np\n",
    "import os\n",
    "import cv2\n",
    "from PIL import Image\n",
    "import keras\n",
    "import matplotlib.pyplot as plt\n",
    "%matplotlib inline"
   ]
  },
  {
   "cell_type": "code",
   "execution_count": 2,
   "metadata": {},
   "outputs": [],
   "source": [
    "np.random.seed(1000)\n",
    "os.environ['KERAS_BACKEND'] = 'tensorflow'"
   ]
  },
  {
   "cell_type": "code",
   "execution_count": 3,
   "metadata": {},
   "outputs": [],
   "source": [
    "cell_directory = '/home/ecampelo/Documentos/Machine learning/Data_files/cell_images'\n",
    "size = 64\n"
   ]
  },
  {
   "cell_type": "code",
   "execution_count": 4,
   "metadata": {},
   "outputs": [],
   "source": [
    "parasitized_images = os.listdir(os.path.join(cell_directory, 'Parasitized')) # 13.780 images\n",
    "uninfected_images = os.listdir(os.path.join(cell_directory, 'Uninfected')) # 13.780 images"
   ]
  },
  {
   "cell_type": "markdown",
   "metadata": {},
   "source": [
    "## Reading the Images"
   ]
  },
  {
   "cell_type": "code",
   "execution_count": 5,
   "metadata": {},
   "outputs": [],
   "source": [
    "# readind the first 100 images just for study\n",
    "dataset = []\n",
    "label = []\n",
    "for i, image_name in enumerate(parasitized_images[:100]):\n",
    "    if image_name.split('.')[1] == 'png':\n",
    "        # reads as array\n",
    "        image = cv2.imread(os.path.join(cell_directory, 'Parasitized', image_name))\n",
    "        # convert to image\n",
    "        image = Image.fromarray(image, 'RGB')\n",
    "        # resize it \n",
    "        image = image.resize((size, size))\n",
    "        # load it to the dataset as an array\n",
    "        dataset.append(np.array(image))\n",
    "        # creates the label for parasitized cells\n",
    "        label.append(0)"
   ]
  },
  {
   "cell_type": "code",
   "execution_count": 6,
   "metadata": {},
   "outputs": [],
   "source": [
    "for i, image_name in enumerate(uninfected_images[:100]):\n",
    "    if image_name.split('.')[1] == 'png':\n",
    "        # reads as array\n",
    "        image = cv2.imread(os.path.join(cell_directory, 'Uninfected', image_name))\n",
    "        # convert to image\n",
    "        image = Image.fromarray(image, 'RGB')\n",
    "        # resize it \n",
    "        image = image.resize((size, size))\n",
    "        # load it to the dataset as an array\n",
    "        dataset.append(np.array(image))\n",
    "        # creates the label for uninfected cells\n",
    "        label.append(1)"
   ]
  },
  {
   "cell_type": "markdown",
   "metadata": {},
   "source": [
    "## Defining the network"
   ]
  },
  {
   "cell_type": "code",
   "execution_count": 7,
   "metadata": {},
   "outputs": [],
   "source": [
    "layer = keras.layers\n",
    "\n",
    "input_shape = (size, size, 3)\n",
    "\n",
    "# input \n",
    "input_layer = layer.Input(shape= input_shape)\n",
    "\n",
    "# convolutions\n",
    "convolution1 = layer.Conv2D(32, kernel_size=(3,3), activation='relu', padding='same')(input_layer)\n",
    "pool1 = layer.MaxPooling2D(pool_size=(2,2))(convolution1) # extracts the max number on a basis 2x2 matrix\n",
    "normalization1 = layer.BatchNormalization(axis= -1)(pool1) \n",
    "drop1 = layer.Dropout(rate=0.2)(normalization1) # drops 20% of nodes result\n",
    "\n",
    "convolution2 = layer.Conv2D(32, kernel_size=(3,3), activation='relu', padding='same')(drop1)\n",
    "pool2 = layer.MaxPooling2D(pool_size=(2,2))(convolution2) # extracts the max number on a basis 2x2 matrix\n",
    "normalization2 = layer.BatchNormalization(axis= -1)(pool2) \n",
    "drop2 = layer.Dropout(rate=0.2)(normalization2) # drops 20% of nodes result\n",
    "\n",
    "flat = layer.Flatten()(drop2)\n",
    "\n",
    "# Dense part\n",
    "hidden1 = layer.Dense(512, activation= 'relu')(flat)\n",
    "normalization3 = layer.BatchNormalization(axis= -1)(hidden1) \n",
    "drop3 = layer.Dropout(rate=0.2)(normalization3) # drops 20% of nodes result\n",
    "\n",
    "hidden2 = layer.Dense(512, activation= 'relu')(drop3)\n",
    "normalization4 = layer.BatchNormalization(axis= -1)(hidden2) \n",
    "drop4 = layer.Dropout(rate=0.2)(normalization4) # drops 20% of nodes result\n",
    "\n",
    "# output\n",
    "output_layer = layer.Dense(2, activation= 'sigmoid')(drop4)\n",
    "\n",
    "# the model\n",
    "model = keras.Model(inputs = input_layer, outputs = output_layer)\n",
    "model.compile(optimizer='adam', loss='categorical_crossentropy', metrics=['accuracy'])\n"
   ]
  },
  {
   "cell_type": "code",
   "execution_count": 8,
   "metadata": {},
   "outputs": [
    {
     "name": "stdout",
     "output_type": "stream",
     "text": [
      "Model: \"functional_1\"\n",
      "_________________________________________________________________\n",
      "Layer (type)                 Output Shape              Param #   \n",
      "=================================================================\n",
      "input_1 (InputLayer)         [(None, 64, 64, 3)]       0         \n",
      "_________________________________________________________________\n",
      "conv2d (Conv2D)              (None, 64, 64, 32)        896       \n",
      "_________________________________________________________________\n",
      "max_pooling2d (MaxPooling2D) (None, 32, 32, 32)        0         \n",
      "_________________________________________________________________\n",
      "batch_normalization (BatchNo (None, 32, 32, 32)        128       \n",
      "_________________________________________________________________\n",
      "dropout (Dropout)            (None, 32, 32, 32)        0         \n",
      "_________________________________________________________________\n",
      "conv2d_1 (Conv2D)            (None, 32, 32, 32)        9248      \n",
      "_________________________________________________________________\n",
      "max_pooling2d_1 (MaxPooling2 (None, 16, 16, 32)        0         \n",
      "_________________________________________________________________\n",
      "batch_normalization_1 (Batch (None, 16, 16, 32)        128       \n",
      "_________________________________________________________________\n",
      "dropout_1 (Dropout)          (None, 16, 16, 32)        0         \n",
      "_________________________________________________________________\n",
      "flatten (Flatten)            (None, 8192)              0         \n",
      "_________________________________________________________________\n",
      "dense (Dense)                (None, 512)               4194816   \n",
      "_________________________________________________________________\n",
      "batch_normalization_2 (Batch (None, 512)               2048      \n",
      "_________________________________________________________________\n",
      "dropout_2 (Dropout)          (None, 512)               0         \n",
      "_________________________________________________________________\n",
      "dense_1 (Dense)              (None, 512)               262656    \n",
      "_________________________________________________________________\n",
      "batch_normalization_3 (Batch (None, 512)               2048      \n",
      "_________________________________________________________________\n",
      "dropout_3 (Dropout)          (None, 512)               0         \n",
      "_________________________________________________________________\n",
      "dense_2 (Dense)              (None, 2)                 1026      \n",
      "=================================================================\n",
      "Total params: 4,472,994\n",
      "Trainable params: 4,470,818\n",
      "Non-trainable params: 2,176\n",
      "_________________________________________________________________\n",
      "None\n"
     ]
    }
   ],
   "source": [
    "print(model.summary())"
   ]
  },
  {
   "cell_type": "markdown",
   "metadata": {},
   "source": [
    "# Dividing the data into train and test sets"
   ]
  },
  {
   "cell_type": "code",
   "execution_count": 9,
   "metadata": {},
   "outputs": [],
   "source": [
    "from sklearn.model_selection import train_test_split\n",
    "from keras.utils import to_categorical"
   ]
  },
  {
   "cell_type": "code",
   "execution_count": 10,
   "metadata": {},
   "outputs": [],
   "source": [
    "X = dataset\n",
    "y = to_categorical(np.array(label)) # transform into a binary class matrix"
   ]
  },
  {
   "cell_type": "code",
   "execution_count": 11,
   "metadata": {},
   "outputs": [],
   "source": [
    "X_train, X_test, y_train, y_test = train_test_split(X, y, test_size=0.2, random_state=0 )"
   ]
  },
  {
   "cell_type": "code",
   "execution_count": 20,
   "metadata": {},
   "outputs": [
    {
     "name": "stdout",
     "output_type": "stream",
     "text": [
      "Epoch 1/25\n",
      "5/5 [==============================] - 1s 121ms/step - loss: 0.8926 - accuracy: 0.5833 - val_loss: 0.9467 - val_accuracy: 0.5625\n",
      "Epoch 2/25\n",
      "5/5 [==============================] - 0s 82ms/step - loss: 0.5337 - accuracy: 0.7639 - val_loss: 2.8775 - val_accuracy: 0.3750\n",
      "Epoch 3/25\n",
      "5/5 [==============================] - 0s 83ms/step - loss: 0.3869 - accuracy: 0.8333 - val_loss: 3.7021 - val_accuracy: 0.4375\n",
      "Epoch 4/25\n",
      "5/5 [==============================] - 0s 89ms/step - loss: 0.2467 - accuracy: 0.9028 - val_loss: 2.1152 - val_accuracy: 0.7500\n",
      "Epoch 5/25\n",
      "5/5 [==============================] - 0s 82ms/step - loss: 0.2450 - accuracy: 0.8889 - val_loss: 4.0287 - val_accuracy: 0.5625\n",
      "Epoch 6/25\n",
      "5/5 [==============================] - 0s 82ms/step - loss: 0.1819 - accuracy: 0.9028 - val_loss: 5.8044 - val_accuracy: 0.4375\n",
      "Epoch 7/25\n",
      "5/5 [==============================] - 0s 88ms/step - loss: 0.1490 - accuracy: 0.9167 - val_loss: 5.8687 - val_accuracy: 0.3750\n",
      "Epoch 8/25\n",
      "5/5 [==============================] - 0s 85ms/step - loss: 0.1162 - accuracy: 0.9444 - val_loss: 5.3801 - val_accuracy: 0.3750\n",
      "Epoch 9/25\n",
      "5/5 [==============================] - 0s 84ms/step - loss: 0.1023 - accuracy: 0.9514 - val_loss: 4.0231 - val_accuracy: 0.4375\n",
      "Epoch 10/25\n",
      "5/5 [==============================] - 0s 84ms/step - loss: 0.0837 - accuracy: 0.9514 - val_loss: 2.7282 - val_accuracy: 0.5625\n",
      "Epoch 11/25\n",
      "5/5 [==============================] - 0s 82ms/step - loss: 0.0840 - accuracy: 0.9653 - val_loss: 1.7050 - val_accuracy: 0.7500\n",
      "Epoch 12/25\n",
      "5/5 [==============================] - 0s 87ms/step - loss: 0.0604 - accuracy: 0.9861 - val_loss: 1.4358 - val_accuracy: 0.8750\n",
      "Epoch 13/25\n",
      "5/5 [==============================] - 0s 91ms/step - loss: 0.0541 - accuracy: 0.9861 - val_loss: 1.5561 - val_accuracy: 0.7500\n",
      "Epoch 14/25\n",
      "5/5 [==============================] - 0s 83ms/step - loss: 0.0336 - accuracy: 0.9931 - val_loss: 1.5579 - val_accuracy: 0.7500\n",
      "Epoch 15/25\n",
      "5/5 [==============================] - 0s 83ms/step - loss: 0.0260 - accuracy: 0.9931 - val_loss: 1.5201 - val_accuracy: 0.6250\n",
      "Epoch 16/25\n",
      "5/5 [==============================] - 0s 83ms/step - loss: 0.0319 - accuracy: 0.9861 - val_loss: 1.5726 - val_accuracy: 0.7500\n",
      "Epoch 17/25\n",
      "5/5 [==============================] - 0s 90ms/step - loss: 0.0251 - accuracy: 0.9931 - val_loss: 1.6558 - val_accuracy: 0.6875\n",
      "Epoch 18/25\n",
      "5/5 [==============================] - 0s 88ms/step - loss: 0.0219 - accuracy: 0.9861 - val_loss: 1.4595 - val_accuracy: 0.7500\n",
      "Epoch 19/25\n",
      "5/5 [==============================] - 0s 90ms/step - loss: 0.0171 - accuracy: 0.9931 - val_loss: 1.2907 - val_accuracy: 0.7500\n",
      "Epoch 20/25\n",
      "5/5 [==============================] - 0s 96ms/step - loss: 0.0157 - accuracy: 0.9931 - val_loss: 1.2697 - val_accuracy: 0.7500\n",
      "Epoch 21/25\n",
      "5/5 [==============================] - 0s 91ms/step - loss: 0.0112 - accuracy: 0.9931 - val_loss: 1.3360 - val_accuracy: 0.6875\n",
      "Epoch 22/25\n",
      "5/5 [==============================] - 0s 95ms/step - loss: 0.0105 - accuracy: 0.9931 - val_loss: 1.4353 - val_accuracy: 0.6875\n",
      "Epoch 23/25\n",
      "5/5 [==============================] - 0s 89ms/step - loss: 0.0094 - accuracy: 0.9931 - val_loss: 1.4763 - val_accuracy: 0.6875\n",
      "Epoch 24/25\n",
      "5/5 [==============================] - 1s 107ms/step - loss: 0.0084 - accuracy: 0.9931 - val_loss: 1.5064 - val_accuracy: 0.7500\n",
      "Epoch 25/25\n",
      "5/5 [==============================] - 1s 101ms/step - loss: 0.0089 - accuracy: 0.9931 - val_loss: 1.5881 - val_accuracy: 0.6875\n",
      "2/2 [==============================] - 0s 7ms/step - loss: 1.7318 - accuracy: 0.5000\n",
      "Test_Accuracy: 50.00%\n"
     ]
    },
    {
     "ename": "AttributeError",
     "evalue": "module 'numpy' has no attribute 'arrange'",
     "output_type": "error",
     "traceback": [
      "\u001b[0;31m---------------------------------------------------------------------------\u001b[0m",
      "\u001b[0;31mAttributeError\u001b[0m                            Traceback (most recent call last)",
      "\u001b[0;32m<ipython-input-20-42dad6bb3969>\u001b[0m in \u001b[0;36m<module>\u001b[0;34m\u001b[0m\n\u001b[1;32m     12\u001b[0m \u001b[0max1\u001b[0m\u001b[0;34m.\u001b[0m\u001b[0mplot\u001b[0m\u001b[0;34m(\u001b[0m\u001b[0mepoch_list\u001b[0m\u001b[0;34m,\u001b[0m \u001b[0mhistory\u001b[0m\u001b[0;34m.\u001b[0m\u001b[0mhistory\u001b[0m\u001b[0;34m[\u001b[0m\u001b[0;34m'accuracy'\u001b[0m\u001b[0;34m]\u001b[0m\u001b[0;34m,\u001b[0m \u001b[0mlabel\u001b[0m\u001b[0;34m=\u001b[0m\u001b[0;34m'Train Accuracy'\u001b[0m\u001b[0;34m)\u001b[0m\u001b[0;34m\u001b[0m\u001b[0;34m\u001b[0m\u001b[0m\n\u001b[1;32m     13\u001b[0m \u001b[0max1\u001b[0m\u001b[0;34m.\u001b[0m\u001b[0mplot\u001b[0m\u001b[0;34m(\u001b[0m\u001b[0mepoch_list\u001b[0m\u001b[0;34m,\u001b[0m \u001b[0mhistory\u001b[0m\u001b[0;34m.\u001b[0m\u001b[0mhistory\u001b[0m\u001b[0;34m[\u001b[0m\u001b[0;34m'val_accuracy'\u001b[0m\u001b[0;34m]\u001b[0m\u001b[0;34m,\u001b[0m \u001b[0mlabel\u001b[0m\u001b[0;34m=\u001b[0m\u001b[0;34m'Validation Accuracy'\u001b[0m\u001b[0;34m)\u001b[0m\u001b[0;34m\u001b[0m\u001b[0;34m\u001b[0m\u001b[0m\n\u001b[0;32m---> 14\u001b[0;31m \u001b[0max1\u001b[0m\u001b[0;34m.\u001b[0m\u001b[0mset_xticks\u001b[0m\u001b[0;34m(\u001b[0m\u001b[0mnp\u001b[0m\u001b[0;34m.\u001b[0m\u001b[0marrange\u001b[0m\u001b[0;34m(\u001b[0m\u001b[0;36m1\u001b[0m\u001b[0;34m,\u001b[0m \u001b[0mmax_epoch\u001b[0m\u001b[0;34m,\u001b[0m \u001b[0;36m5\u001b[0m\u001b[0;34m)\u001b[0m\u001b[0;34m)\u001b[0m\u001b[0;34m\u001b[0m\u001b[0;34m\u001b[0m\u001b[0m\n\u001b[0m\u001b[1;32m     15\u001b[0m \u001b[0max1\u001b[0m\u001b[0;34m.\u001b[0m\u001b[0mset_ylabel\u001b[0m\u001b[0;34m(\u001b[0m\u001b[0;34m'Accuray Value'\u001b[0m\u001b[0;34m)\u001b[0m\u001b[0;34m\u001b[0m\u001b[0;34m\u001b[0m\u001b[0m\n\u001b[1;32m     16\u001b[0m \u001b[0max1\u001b[0m\u001b[0;34m.\u001b[0m\u001b[0mset_xlabel\u001b[0m\u001b[0;34m(\u001b[0m\u001b[0;34m'Epoch'\u001b[0m\u001b[0;34m)\u001b[0m\u001b[0;34m\u001b[0m\u001b[0;34m\u001b[0m\u001b[0m\n",
      "\u001b[0;31mAttributeError\u001b[0m: module 'numpy' has no attribute 'arrange'"
     ]
    },
    {
     "data": {
      "image/png": "[encoded data removed]",
      "text/plain": [
       "<Figure size 864x432 with 2 Axes>"
      ]
     },
     "metadata": {
      "needs_background": "light"
     },
     "output_type": "display_data"
    }
   ],
   "source": [
    "history = model.fit(np.array(X_train), y_train, batch_size=32, verbose=1, epochs=25, validation_split=0.1, shuffle=False)\n"
   ]
  },
  {
   "cell_type": "code",
   "execution_count": 21,
   "metadata": {},
   "outputs": [
    {
     "name": "stdout",
     "output_type": "stream",
     "text": [
      "2/2 [==============================] - 0s 5ms/step - loss: 1.7318 - accuracy: 0.5000\n",
      "Test_Accuracy: 50.00%\n"
     ]
    },
    {
     "data": {
      "image/png": "[encoded data removed]",
      "text/plain": [
       "<Figure size 864x432 with 2 Axes>"
      ]
     },
     "metadata": {
      "needs_background": "light"
     },
     "output_type": "display_data"
    }
   ],
   "source": [
    "# Result Analysis\n",
    "print('Test_Accuracy: {:.2f}%'.format(model.evaluate(np.array(X_test), np.array(y_test))[1]*100))\n",
    "\n",
    "f, (ax1, ax2) = plt.subplots(1, 2, figsize=(12,6))\n",
    "t = f.suptitle('CNN Performance', fontsize=12)\n",
    "f.subplots_adjust(top=0.85, wspace=0.3)\n",
    "\n",
    "max_epoch = len(history.history['accuracy'])+1\n",
    "epoch_list = list(range(1, max_epoch))\n",
    "ax1.plot(epoch_list, history.history['accuracy'], label='Train Accuracy')\n",
    "ax1.plot(epoch_list, history.history['val_accuracy'], label='Validation Accuracy')\n",
    "ax1.set_xticks(np.arange(1, max_epoch, 5))\n",
    "ax1.set_ylabel('Accuray Value')\n",
    "ax1.set_xlabel('Epoch')\n",
    "ax1.set_title('Accuracy')\n",
    "l1 = ax1.legend(loc='best')\n",
    "\n",
    "ax2.plot(epoch_list, history.history['loss'], label='Train Loss')\n",
    "ax2.plot(epoch_list, history.history['val_loss'], label='Validation Loss')\n",
    "ax2.set_xticks(np.arange(1, max_epoch, 5))\n",
    "ax2.set_ylabel('Loss Value')\n",
    "ax2.set_xlabel('Epoch')\n",
    "ax2.set_title('Loss')\n",
    "l2 = ax2.legend(loc='best')"
   ]
  },
  {
   "cell_type": "code",
   "execution_count": 55,
   "metadata": {},
   "outputs": [],
   "source": [
    "# saving the model\n",
    "history.model.save('/home/ecampelo/Documentos/Machine learning/CNN_malaria_DL.h5')\n",
    "# e depois\n",
    "# model = keras.models.load_model('path/to/location')\n"
   ]
  },
  {
   "cell_type": "code",
   "execution_count": 53,
   "metadata": {},
   "outputs": [
    {
     "data": {
      "text/plain": [
       "array([[9.9949303e+01, 1.5971065e-02]], dtype=float32)"
      ]
     },
     "execution_count": 53,
     "metadata": {},
     "output_type": "execute_result"
    }
   ],
   "source": [
    "# predicting\n",
    "one_image = np.array(X_test[0:1])\n",
    "y_predict = history.model.predict(one_image)\n",
    "y_predict"
   ]
  },
  {
   "cell_type": "code",
   "execution_count": 37,
   "metadata": {},
   "outputs": [
    {
     "data": {
      "text/plain": [
       "array([[1., 0.]], dtype=float32)"
      ]
     },
     "execution_count": 37,
     "metadata": {},
     "output_type": "execute_result"
    }
   ],
   "source": [
    "y_test[0:1]"
   ]
  },
  {
   "cell_type": "code",
   "execution_count": 50,
   "metadata": {},
   "outputs": [
    {
     "data": {
      "text/plain": [
       "[0.9994930028915405, 0.00015971064567565918]"
      ]
     },
     "execution_count": 50,
     "metadata": {},
     "output_type": "execute_result"
    }
   ],
   "source": [
    "(y_predict.tolist()[0])"
   ]
  }
 ],
 "metadata": {
  "kernelspec": {
   "display_name": "Python 3",
   "language": "python",
   "name": "python3"
  },
  "language_info": {
   "codemirror_mode": {
    "name": "ipython",
    "version": 3
   },
   "file_extension": ".py",
   "mimetype": "text/x-python",
   "name": "python",
   "nbconvert_exporter": "python",
   "pygments_lexer": "ipython3",
   "version": "3.6.9"
  }
 },
 "nbformat": 4,
 "nbformat_minor": 4
}
